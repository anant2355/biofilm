{
 "cells": [
  {
   "cell_type": "code",
   "execution_count": 1,
   "id": "bdfbe346",
   "metadata": {},
   "outputs": [
    {
     "data": {
      "text/plain": [
       "{'organisms_output_filename': 'organisms.csv',\n",
       " 'NCBI_taxonomy': 'http://purl.obolibrary.org/obo/ncbitaxon.owl',\n",
       " 'organisms_bad_filename': 'organisms-bad.csv',\n",
       " 'organisms_class_name': '_131567',\n",
       " 'static_folder': 'app/api/static',\n",
       " 'bad_list': ['clone',\n",
       "  'uncultured',\n",
       "  'dgge',\n",
       "  'uncultivated',\n",
       "  'unidentified',\n",
       "  'enrichment'],\n",
       " 'good_list_header': ['ncbi_id | organism_name'],\n",
       " 'organism_insert_query': 'INSERT INTO Biofilm.organisms VALUES (%s, %s)',\n",
       " 'organism_truncate_query': 'TRUNCATE TABLE Biofilm.organisms;',\n",
       " 'substratum_output_filename': 'substratum.txt',\n",
       " 'vessels_output_filename': 'vessels.txt',\n",
       " 'substratum_insert_query': 'INSERT INTO Biofilm.substratum VALUES (%s)',\n",
       " 'substratum_truncate_query': 'TRUNCATE TABLE Biofilm.substratum;',\n",
       " 'vessels_insert_query': 'INSERT INTO Biofilm.vessels VALUES (%s)',\n",
       " 'vessels_truncate_query': 'TRUNCATE TABLE Biofilm.vessels;',\n",
       " 'mediums': ['air', 'water', 'oil', 'glycerin', 'dry'],\n",
       " 'scoapes': ['Laser Microdisection Scope',\n",
       "  'Inverted Confocal Microscope',\n",
       "  'Upright Confocal Microscope',\n",
       "  'Leica Steroscope',\n",
       "  'Epifluorescent Microscope',\n",
       "  'Nikon Steroscope',\n",
       "  'Bio-Raman'],\n",
       " 'combos': [[0, 2.5, 0],\n",
       "  [0, 5, 0],\n",
       "  [0, 10, 0],\n",
       "  [0, 40, 0],\n",
       "  [0, 63, 0],\n",
       "  [1, 1.25, 0],\n",
       "  [1, 10, 0],\n",
       "  [1, 20, 1],\n",
       "  [1, 63, 1],\n",
       "  [1, 63, 2],\n",
       "  [1, 63, 3],\n",
       "  [2, 1.25, 0],\n",
       "  [2, 10, 0],\n",
       "  [2, 10, 1],\n",
       "  [2, 20, 0],\n",
       "  [2, 25, 1],\n",
       "  [2, 40, 1],\n",
       "  [2, 63, 1],\n",
       "  [3, 1, 0],\n",
       "  [3, 2, 0],\n",
       "  [4, 1, 0],\n",
       "  [4, 4, 0],\n",
       "  [4, 10, 0],\n",
       "  [4, 20, 0],\n",
       "  [4, 20, 1],\n",
       "  [4, 40, 1],\n",
       "  [4, 40, 2],\n",
       "  [4, 50, 4],\n",
       "  [4, 60, 1],\n",
       "  [4, 100, 2],\n",
       "  [5, 1, 0],\n",
       "  [6, 10, 0],\n",
       "  [6, 50, 0],\n",
       "  [6, 60, 1],\n",
       "  [6, 100, 0]]}"
      ]
     },
     "execution_count": 1,
     "metadata": {},
     "output_type": "execute_result"
    }
   ],
   "source": [
    "{\"organisms_output_filename\": \"organisms.csv\", \"NCBI_taxonomy\": \"http://purl.obolibrary.org/obo/ncbitaxon.owl\", \"organisms_bad_filename\": \"organisms-bad.csv\", \"organisms_class_name\": \"_131567\", \"static_folder\": \"app/api/static\", \"bad_list\": [\"clone\", \"uncultured\", \"dgge\", \"uncultivated\", \"unidentified\", \"enrichment\"], \"good_list_header\": [\"ncbi_id | organism_name\"], \"organism_insert_query\": \"INSERT INTO Biofilm.organisms VALUES (%s, %s)\", \"organism_truncate_query\": \"TRUNCATE TABLE Biofilm.organisms;\", \"substratum_output_filename\": \"substratum.txt\", \"vessels_output_filename\": \"vessels.txt\", \"substratum_insert_query\": \"INSERT INTO Biofilm.substratum VALUES (%s)\", \"substratum_truncate_query\": \"TRUNCATE TABLE Biofilm.substratum;\", \"vessels_insert_query\": \"INSERT INTO Biofilm.vessels VALUES (%s)\", \"vessels_truncate_query\": \"TRUNCATE TABLE Biofilm.vessels;\", \"mediums\": [\"air\", \"water\", \"oil\", \"glycerin\", \"dry\"], \"scoapes\": [\"Laser Microdisection Scope\", \"Inverted Confocal Microscope\", \"Upright Confocal Microscope\", \"Leica Steroscope\", \"Epifluorescent Microscope\", \"Nikon Steroscope\", \"Bio-Raman\"], \"combos\": [[0, 2.5, 0], [0, 5, 0], [0, 10, 0], [0, 40, 0], [0, 63, 0], [1, 1.25, 0], [1, 10, 0], [1, 20, 1], [1, 63, 1], [1, 63, 2], [1, 63, 3], [2, 1.25, 0], [2, 10, 0], [2, 10, 1], [2, 20, 0], [2, 25, 1], [2, 40, 1], [2, 63, 1], [3, 1, 0], [3, 2, 0], [4, 1, 0], [4, 4, 0], [4, 10, 0], [4, 20, 0], [4, 20, 1], [4, 40, 1], [4, 40, 2], [4, 50, 4], [4, 60, 1], [4, 100, 2], [5, 1, 0], [6, 10, 0], [6, 50, 0], [6, 60, 1], [6, 100, 0]]}"
   ]
  },
  {
   "cell_type": "code",
   "execution_count": 3,
   "id": "9a1d3f2c",
   "metadata": {},
   "outputs": [
    {
     "data": {
      "text/plain": [
       "'/Users/ananthchalamuru/Library/CloudStorage/OneDrive-DePaulUniversity/biofilm'"
      ]
     },
     "execution_count": 3,
     "metadata": {},
     "output_type": "execute_result"
    }
   ],
   "source": [
    "import os\n",
    "os.getcwd()"
   ]
  },
  {
   "cell_type": "code",
   "execution_count": 5,
   "id": "20ba8ff4",
   "metadata": {},
   "outputs": [
    {
     "data": {
      "text/plain": [
       "'/Users/ananthchalamuru/Library/CloudStorage/OneDrive-DePaulUniversity/biofilm/biofilm.env'"
      ]
     },
     "execution_count": 5,
     "metadata": {},
     "output_type": "execute_result"
    }
   ],
   "source": [
    "os.path.join(os.getcwd(), \"biofilm.env\")"
   ]
  },
  {
   "cell_type": "code",
   "execution_count": 6,
   "id": "248d2e28",
   "metadata": {},
   "outputs": [],
   "source": [
    "from app.api.process import Process"
   ]
  },
  {
   "cell_type": "code",
   "execution_count": 7,
   "id": "9ad6fa93",
   "metadata": {},
   "outputs": [],
   "source": [
    "processor=Process()"
   ]
  },
  {
   "cell_type": "code",
   "execution_count": 10,
   "id": "5cd25d1f",
   "metadata": {},
   "outputs": [],
   "source": [
    "args= processor.get_arguments()"
   ]
  },
  {
   "cell_type": "code",
   "execution_count": 12,
   "id": "991e4872",
   "metadata": {},
   "outputs": [
    {
     "data": {
      "text/plain": [
       "'localhost'"
      ]
     },
     "execution_count": 12,
     "metadata": {},
     "output_type": "execute_result"
    }
   ],
   "source": [
    "args.db_host_name"
   ]
  },
  {
   "cell_type": "code",
   "execution_count": 13,
   "id": "09040247",
   "metadata": {},
   "outputs": [],
   "source": [
    "config = processor.config"
   ]
  },
  {
   "cell_type": "code",
   "execution_count": 15,
   "id": "0ce9e7f1",
   "metadata": {},
   "outputs": [
    {
     "data": {
      "text/plain": [
       "dict"
      ]
     },
     "execution_count": 15,
     "metadata": {},
     "output_type": "execute_result"
    }
   ],
   "source": [
    "type(config)"
   ]
  },
  {
   "cell_type": "code",
   "execution_count": 16,
   "id": "436e4644",
   "metadata": {},
   "outputs": [
    {
     "data": {
      "text/plain": [
       "'http://purl.obolibrary.org/obo/ncbitaxon.owl'"
      ]
     },
     "execution_count": 16,
     "metadata": {},
     "output_type": "execute_result"
    }
   ],
   "source": [
    "config['NCBI_taxonomy']"
   ]
  },
  {
   "cell_type": "code",
   "execution_count": 17,
   "id": "2a6d33b0",
   "metadata": {},
   "outputs": [
    {
     "data": {
      "text/plain": [
       "'_131567'"
      ]
     },
     "execution_count": 17,
     "metadata": {},
     "output_type": "execute_result"
    }
   ],
   "source": [
    "config['organisms_class_name']"
   ]
  },
  {
   "cell_type": "code",
   "execution_count": 18,
   "id": "98c0b691",
   "metadata": {},
   "outputs": [
    {
     "data": {
      "text/plain": [
       "True"
      ]
     },
     "execution_count": 18,
     "metadata": {},
     "output_type": "execute_result"
    }
   ],
   "source": [
    "'clone' in 'aldkFBVLHKADBFJKLANclonefadfljkaLJKFBlkjalfjkb'"
   ]
  },
  {
   "cell_type": "code",
   "execution_count": 19,
   "id": "3007c694",
   "metadata": {},
   "outputs": [
    {
     "data": {
      "text/plain": [
       "'app/api/static/organisms.csv'"
      ]
     },
     "execution_count": 19,
     "metadata": {},
     "output_type": "execute_result"
    }
   ],
   "source": [
    "config['static_folder']+'/'+config['organisms_output_filename']"
   ]
  },
  {
   "cell_type": "code",
   "execution_count": 22,
   "id": "a278017a",
   "metadata": {},
   "outputs": [],
   "source": [
    "import pandas as pd\n",
    "organisms = pd.read_csv(config['static_folder']+'/'+config['organisms_output_filename'],sep = '|')"
   ]
  },
  {
   "cell_type": "code",
   "execution_count": 24,
   "id": "6fa3684a",
   "metadata": {},
   "outputs": [
    {
     "data": {
      "text/plain": [
       "Index(['ncbi_id ', ' organism_name'], dtype='object')"
      ]
     },
     "execution_count": 24,
     "metadata": {},
     "output_type": "execute_result"
    }
   ],
   "source": [
    "organisms.columns\n"
   ]
  },
  {
   "cell_type": "code",
   "execution_count": 25,
   "id": "453f20c5",
   "metadata": {},
   "outputs": [],
   "source": [
    "organisms.columns = organisms.columns.str.replace(' ', '')\n"
   ]
  },
  {
   "cell_type": "code",
   "execution_count": 26,
   "id": "9edb88ed",
   "metadata": {},
   "outputs": [
    {
     "data": {
      "text/plain": [
       "Index(['ncbi_id', 'organism_name'], dtype='object')"
      ]
     },
     "execution_count": 26,
     "metadata": {},
     "output_type": "execute_result"
    }
   ],
   "source": [
    "organisms.columns"
   ]
  },
  {
   "cell_type": "code",
   "execution_count": 35,
   "id": "72b0cfb6",
   "metadata": {},
   "outputs": [
    {
     "data": {
      "text/plain": [
       "0          ncbitaxon_1001001 \n",
       "1          ncbitaxon_1001168 \n",
       "2          ncbitaxon_1001532 \n",
       "3          ncbitaxon_1002118 \n",
       "4          ncbitaxon_1002663 \n",
       "                  ...        \n",
       "1952677      ncbitaxon_48369 \n",
       "1952678      ncbitaxon_48370 \n",
       "1952679     ncbitaxon_327764 \n",
       "1952680     ncbitaxon_327765 \n",
       "1952681     ncbitaxon_445559 \n",
       "Name: ncbi_id, Length: 1952682, dtype: object"
      ]
     },
     "execution_count": 35,
     "metadata": {},
     "output_type": "execute_result"
    }
   ],
   "source": [
    "organisms['ncbi_id'].apply(lambda x:x.lower())"
   ]
  },
  {
   "cell_type": "code",
   "execution_count": 34,
   "id": "b8d38232",
   "metadata": {},
   "outputs": [
    {
     "data": {
      "text/plain": [
       "0          NCBITaxon_1001001 \n",
       "1          NCBITaxon_1001168 \n",
       "2          NCBITaxon_1001532 \n",
       "3          NCBITaxon_1002118 \n",
       "4          NCBITaxon_1002663 \n",
       "                  ...        \n",
       "1952677      NCBITaxon_48369 \n",
       "1952678      NCBITaxon_48370 \n",
       "1952679     NCBITaxon_327764 \n",
       "1952680     NCBITaxon_327765 \n",
       "1952681     NCBITaxon_445559 \n",
       "Name: ncbi_id, Length: 1952682, dtype: object"
      ]
     },
     "execution_count": 34,
     "metadata": {},
     "output_type": "execute_result"
    }
   ],
   "source": [
    "organisms['ncbi_id']"
   ]
  },
  {
   "cell_type": "code",
   "execution_count": 31,
   "id": "3ac9d8aa",
   "metadata": {},
   "outputs": [
    {
     "data": {
      "text/plain": [
       "Index(['ncbi_id', 'organism_name'], dtype='object')"
      ]
     },
     "execution_count": 31,
     "metadata": {},
     "output_type": "execute_result"
    }
   ],
   "source": [
    "organisms.columns"
   ]
  },
  {
   "cell_type": "code",
   "execution_count": null,
   "id": "9af4e859",
   "metadata": {},
   "outputs": [],
   "source": [
    "for column in organisms.columns:  \n",
    "    for row in organisms[column]:\n",
    "        row = row."
   ]
  }
 ],
 "metadata": {
  "kernelspec": {
   "display_name": "Python 3 (ipykernel)",
   "language": "python",
   "name": "python3"
  },
  "language_info": {
   "codemirror_mode": {
    "name": "ipython",
    "version": 3
   },
   "file_extension": ".py",
   "mimetype": "text/x-python",
   "name": "python",
   "nbconvert_exporter": "python",
   "pygments_lexer": "ipython3",
   "version": "3.9.13"
  }
 },
 "nbformat": 4,
 "nbformat_minor": 5
}

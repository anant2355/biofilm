{
 "cells": [
  {
   "cell_type": "code",
   "execution_count": 11,
   "id": "c9cd967d",
   "metadata": {},
   "outputs": [],
   "source": [
    "from core.logger import get_logger\n",
    "logger = get_logger(__name__)"
   ]
  },
  {
   "cell_type": "code",
   "execution_count": 18,
   "id": "3f640b66",
   "metadata": {},
   "outputs": [],
   "source": [
    "import os\n",
    "import sys\n",
    "def abc():\n",
    "    try:\n",
    "        print(c)\n",
    "    except Exception as e:\n",
    "        logger.error(f\"While processing in Function {abc.__qualname__}, we got {sys.exc_info()[0]} Exception. \\n '{e}' in Line Number {sys.exc_info()[2].tb_lineno}  File Name {os.path.basename(sys.exc_info()[2].tb_frame.f_code.co_filename)}\")"
   ]
  },
  {
   "cell_type": "code",
   "execution_count": null,
   "id": "3844ba71",
   "metadata": {},
   "outputs": [],
   "source": []
  },
  {
   "cell_type": "code",
   "execution_count": 19,
   "id": "17ede8d0",
   "metadata": {},
   "outputs": [
    {
     "name": "stderr",
     "output_type": "stream",
     "text": [
      "2023-07-10 17:35:00,267 MainThread __main__ ERROR While processing in Function abc, we got <class 'NameError'> Exception.   'name 'c' is not defined' in Line Number 5  File Name 1347707829.py\n"
     ]
    }
   ],
   "source": [
    "abc()"
   ]
  },
  {
   "cell_type": "code",
   "execution_count": 20,
   "id": "4afb8e79",
   "metadata": {},
   "outputs": [],
   "source": [
    "from flask import jsonify, make_response"
   ]
  },
  {
   "cell_type": "code",
   "execution_count": null,
   "id": "ac2f6653",
   "metadata": {},
   "outputs": [],
   "source": []
  }
 ],
 "metadata": {
  "kernelspec": {
   "display_name": "Python 3 (ipykernel)",
   "language": "python",
   "name": "python3"
  },
  "language_info": {
   "codemirror_mode": {
    "name": "ipython",
    "version": 3
   },
   "file_extension": ".py",
   "mimetype": "text/x-python",
   "name": "python",
   "nbconvert_exporter": "python",
   "pygments_lexer": "ipython3",
   "version": "3.9.13"
  }
 },
 "nbformat": 4,
 "nbformat_minor": 5
}

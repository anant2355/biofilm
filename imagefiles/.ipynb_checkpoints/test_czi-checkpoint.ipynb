{
 "cells": [
  {
   "cell_type": "code",
   "execution_count": 5,
   "id": "99d5a2b4",
   "metadata": {},
   "outputs": [],
   "source": [
    "# !pip install czifile\n",
    "# !pip install czifile pillow"
   ]
  },
  {
   "cell_type": "code",
   "execution_count": 14,
   "id": "6a30ac7d",
   "metadata": {},
   "outputs": [],
   "source": [
    "import os\n",
    "import sys\n",
    "import czifile\n",
    "import numpy as np\n",
    "from PIL import Image\n",
    "\n",
    "def czi_to_jpeg(input_file, output_dir):\n",
    "    czi_data = czifile.imread(input_file)\n",
    "\n",
    "    for i, scene in enumerate(czi_data):\n",
    "        scaled_data = (scene * 255.0 / scene.max()).astype(np.uint8)\n",
    "\n",
    "        img = Image.fromarray(scaled_data)\n",
    "        output_file = \"output_\"+str(i)+\".jpeg\"\n",
    "\n",
    "        # Save the image as a JPEG\n",
    "        img.save(output_file, \"JPEG\")\n",
    "\n",
    "\n",
    "input_file = 'Snap-8660.czi'\n",
    "output_dir = '/'\n",
    "\n",
    "czi_to_jpeg(input_file, output_dir)\n"
   ]
  },
  {
   "cell_type": "code",
   "execution_count": 1,
   "id": "cb2f14be",
   "metadata": {},
   "outputs": [
    {
     "name": "stdout",
     "output_type": "stream",
     "text": [
      "jpegfiles/10183.jpeg\n",
      "jpegfiles/10195.jpeg\n",
      "jpegfiles/10194.jpeg\n",
      "jpegfiles/10182.jpeg\n",
      "jpegfiles/10189.jpeg\n",
      "jpegfiles/10185.jpeg\n",
      "jpegfiles/10193.jpeg\n",
      "jpegfiles/10192.jpeg\n",
      "jpegfiles/10184.jpeg\n",
      "jpegfiles/10188.jpeg\n",
      "jpegfiles/10191.jpeg\n",
      "jpegfiles/10187.jpeg\n",
      "jpegfiles/10186.jpeg\n",
      "jpegfiles/10190.jpeg\n",
      "jpegfiles/10197.jpeg\n",
      "jpegfiles/10181.jpeg\n",
      "jpegfiles/10196.jpeg\n"
     ]
    }
   ],
   "source": [
    "import os\n",
    "import glob\n",
    "import czifile\n",
    "import numpy as np\n",
    "from PIL import Image\n",
    "\n",
    "for filename in glob.glob('pa01_rep1/*.czi'):\n",
    "    outputfile_name = filename.split('/')[1].split('-')[1].split('.')[0]+'.jpeg'\n",
    "    czi_data = czifile.imread(filename)\n",
    "    scaled_data = czi_data[0].astype(np.uint8)\n",
    "#     scaled_data = (czi_data[0] * 255.0 / czi_data[0].max()).astype(np.uint8)\n",
    "    img = Image.fromarray(scaled_data)\n",
    "    img.save('jpegfiles'+'/'+outputfile_name, \"JPEG\")"
   ]
  },
  {
   "cell_type": "code",
   "execution_count": null,
   "id": "3530b907",
   "metadata": {},
   "outputs": [],
   "source": []
  }
 ],
 "metadata": {
  "kernelspec": {
   "display_name": "Python 3 (ipykernel)",
   "language": "python",
   "name": "python3"
  },
  "language_info": {
   "codemirror_mode": {
    "name": "ipython",
    "version": 3
   },
   "file_extension": ".py",
   "mimetype": "text/x-python",
   "name": "python",
   "nbconvert_exporter": "python",
   "pygments_lexer": "ipython3",
   "version": "3.9.13"
  }
 },
 "nbformat": 4,
 "nbformat_minor": 5
}

{
 "cells": [
  {
   "cell_type": "code",
   "execution_count": 1,
   "id": "bdfbe346",
   "metadata": {},
   "outputs": [
    {
     "ename": "OperationalError",
     "evalue": "2055: Lost connection to MySQL server at 'localhost:3306', system error: 32 Broken pipe",
     "output_type": "error",
     "traceback": [
      "\u001b[0;31m---------------------------------------------------------------------------\u001b[0m",
      "\u001b[0;31mBrokenPipeError\u001b[0m                           Traceback (most recent call last)",
      "\u001b[0;32m/opt/anaconda3/lib/python3.9/site-packages/mysql/connector/network.py\u001b[0m in \u001b[0;36msend_plain\u001b[0;34m(self, buf, packet_number, compressed_packet_number)\u001b[0m\n\u001b[1;32m    169\u001b[0m             \u001b[0;32mtry\u001b[0m\u001b[0;34m:\u001b[0m\u001b[0;34m\u001b[0m\u001b[0;34m\u001b[0m\u001b[0m\n\u001b[0;32m--> 170\u001b[0;31m                 \u001b[0mself\u001b[0m\u001b[0;34m.\u001b[0m\u001b[0msock\u001b[0m\u001b[0;34m.\u001b[0m\u001b[0msendall\u001b[0m\u001b[0;34m(\u001b[0m\u001b[0mpacket\u001b[0m\u001b[0;34m)\u001b[0m\u001b[0;34m\u001b[0m\u001b[0;34m\u001b[0m\u001b[0m\n\u001b[0m\u001b[1;32m    171\u001b[0m             \u001b[0;32mexcept\u001b[0m \u001b[0mIOError\u001b[0m \u001b[0;32mas\u001b[0m \u001b[0merr\u001b[0m\u001b[0;34m:\u001b[0m\u001b[0;34m\u001b[0m\u001b[0;34m\u001b[0m\u001b[0m\n",
      "\u001b[0;32m/opt/anaconda3/lib/python3.9/ssl.py\u001b[0m in \u001b[0;36msendall\u001b[0;34m(self, data, flags)\u001b[0m\n\u001b[1;32m   1204\u001b[0m                 \u001b[0;32mwhile\u001b[0m \u001b[0mcount\u001b[0m \u001b[0;34m<\u001b[0m \u001b[0mamount\u001b[0m\u001b[0;34m:\u001b[0m\u001b[0;34m\u001b[0m\u001b[0;34m\u001b[0m\u001b[0m\n\u001b[0;32m-> 1205\u001b[0;31m                     \u001b[0mv\u001b[0m \u001b[0;34m=\u001b[0m \u001b[0mself\u001b[0m\u001b[0;34m.\u001b[0m\u001b[0msend\u001b[0m\u001b[0;34m(\u001b[0m\u001b[0mbyte_view\u001b[0m\u001b[0;34m[\u001b[0m\u001b[0mcount\u001b[0m\u001b[0;34m:\u001b[0m\u001b[0;34m]\u001b[0m\u001b[0;34m)\u001b[0m\u001b[0;34m\u001b[0m\u001b[0;34m\u001b[0m\u001b[0m\n\u001b[0m\u001b[1;32m   1206\u001b[0m                     \u001b[0mcount\u001b[0m \u001b[0;34m+=\u001b[0m \u001b[0mv\u001b[0m\u001b[0;34m\u001b[0m\u001b[0;34m\u001b[0m\u001b[0m\n",
      "\u001b[0;32m/opt/anaconda3/lib/python3.9/ssl.py\u001b[0m in \u001b[0;36msend\u001b[0;34m(self, data, flags)\u001b[0m\n\u001b[1;32m   1173\u001b[0m                     self.__class__)\n\u001b[0;32m-> 1174\u001b[0;31m             \u001b[0;32mreturn\u001b[0m \u001b[0mself\u001b[0m\u001b[0;34m.\u001b[0m\u001b[0m_sslobj\u001b[0m\u001b[0;34m.\u001b[0m\u001b[0mwrite\u001b[0m\u001b[0;34m(\u001b[0m\u001b[0mdata\u001b[0m\u001b[0;34m)\u001b[0m\u001b[0;34m\u001b[0m\u001b[0;34m\u001b[0m\u001b[0m\n\u001b[0m\u001b[1;32m   1175\u001b[0m         \u001b[0;32melse\u001b[0m\u001b[0;34m:\u001b[0m\u001b[0;34m\u001b[0m\u001b[0;34m\u001b[0m\u001b[0m\n",
      "\u001b[0;31mBrokenPipeError\u001b[0m: [Errno 32] Broken pipe",
      "\nThe above exception was the direct cause of the following exception:\n",
      "\u001b[0;31mOperationalError\u001b[0m                          Traceback (most recent call last)",
      "\u001b[0;32m/var/folders/x7/gf3rpcz11jl1v62l7lr921kc0000gn/T/ipykernel_2885/409775886.py\u001b[0m in \u001b[0;36m<module>\u001b[0;34m\u001b[0m\n\u001b[1;32m     18\u001b[0m \u001b[0mcur\u001b[0m\u001b[0;34m.\u001b[0m\u001b[0mexecute\u001b[0m\u001b[0;34m(\u001b[0m\u001b[0;34m'set GLOBAL max_allowed_packet=67108864'\u001b[0m\u001b[0;34m)\u001b[0m\u001b[0;34m\u001b[0m\u001b[0;34m\u001b[0m\u001b[0m\n\u001b[1;32m     19\u001b[0m \u001b[0mcur\u001b[0m\u001b[0;34m.\u001b[0m\u001b[0mexecute\u001b[0m\u001b[0;34m(\u001b[0m\u001b[0mconfig\u001b[0m\u001b[0;34m[\u001b[0m\u001b[0;34m'organism_truncate_query'\u001b[0m\u001b[0;34m]\u001b[0m\u001b[0;34m)\u001b[0m\u001b[0;34m\u001b[0m\u001b[0;34m\u001b[0m\u001b[0m\n\u001b[0;32m---> 20\u001b[0;31m \u001b[0mcur\u001b[0m\u001b[0;34m.\u001b[0m\u001b[0mexecutemany\u001b[0m\u001b[0;34m(\u001b[0m\u001b[0mconfig\u001b[0m\u001b[0;34m[\u001b[0m\u001b[0;34m'organism_insert_query'\u001b[0m\u001b[0;34m]\u001b[0m\u001b[0;34m,\u001b[0m \u001b[0morganisms_list\u001b[0m\u001b[0;34m)\u001b[0m\u001b[0;34m\u001b[0m\u001b[0;34m\u001b[0m\u001b[0m\n\u001b[0m\u001b[1;32m     21\u001b[0m \u001b[0;31m# for index,organism in enumerate(organisms_list):\u001b[0m\u001b[0;34m\u001b[0m\u001b[0;34m\u001b[0m\u001b[0m\n\u001b[1;32m     22\u001b[0m \u001b[0;31m#     if (index%100000==0):\u001b[0m\u001b[0;34m\u001b[0m\u001b[0;34m\u001b[0m\u001b[0m\n",
      "\u001b[0;32m/opt/anaconda3/lib/python3.9/site-packages/mysql/connector/cursor.py\u001b[0m in \u001b[0;36mexecutemany\u001b[0;34m(self, operation, seq_params)\u001b[0m\n\u001b[1;32m    719\u001b[0m             \u001b[0;32mif\u001b[0m \u001b[0mstmt\u001b[0m \u001b[0;32mis\u001b[0m \u001b[0;32mnot\u001b[0m \u001b[0;32mNone\u001b[0m\u001b[0;34m:\u001b[0m\u001b[0;34m\u001b[0m\u001b[0;34m\u001b[0m\u001b[0m\n\u001b[1;32m    720\u001b[0m                 \u001b[0mself\u001b[0m\u001b[0;34m.\u001b[0m\u001b[0m_executed\u001b[0m \u001b[0;34m=\u001b[0m \u001b[0mstmt\u001b[0m\u001b[0;34m\u001b[0m\u001b[0;34m\u001b[0m\u001b[0m\n\u001b[0;32m--> 721\u001b[0;31m                 \u001b[0;32mreturn\u001b[0m \u001b[0mself\u001b[0m\u001b[0;34m.\u001b[0m\u001b[0mexecute\u001b[0m\u001b[0;34m(\u001b[0m\u001b[0mstmt\u001b[0m\u001b[0;34m)\u001b[0m\u001b[0;34m\u001b[0m\u001b[0;34m\u001b[0m\u001b[0m\n\u001b[0m\u001b[1;32m    722\u001b[0m \u001b[0;34m\u001b[0m\u001b[0m\n\u001b[1;32m    723\u001b[0m         \u001b[0mrowcnt\u001b[0m \u001b[0;34m=\u001b[0m \u001b[0;36m0\u001b[0m\u001b[0;34m\u001b[0m\u001b[0;34m\u001b[0m\u001b[0m\n",
      "\u001b[0;32m/opt/anaconda3/lib/python3.9/site-packages/mysql/connector/cursor.py\u001b[0m in \u001b[0;36mexecute\u001b[0;34m(self, operation, params, multi)\u001b[0m\n\u001b[1;32m    613\u001b[0m \u001b[0;34m\u001b[0m\u001b[0m\n\u001b[1;32m    614\u001b[0m         \u001b[0;32mtry\u001b[0m\u001b[0;34m:\u001b[0m\u001b[0;34m\u001b[0m\u001b[0;34m\u001b[0m\u001b[0m\n\u001b[0;32m--> 615\u001b[0;31m             \u001b[0mself\u001b[0m\u001b[0;34m.\u001b[0m\u001b[0m_handle_result\u001b[0m\u001b[0;34m(\u001b[0m\u001b[0mself\u001b[0m\u001b[0;34m.\u001b[0m\u001b[0m_connection\u001b[0m\u001b[0;34m.\u001b[0m\u001b[0mcmd_query\u001b[0m\u001b[0;34m(\u001b[0m\u001b[0mstmt\u001b[0m\u001b[0;34m)\u001b[0m\u001b[0;34m)\u001b[0m\u001b[0;34m\u001b[0m\u001b[0;34m\u001b[0m\u001b[0m\n\u001b[0m\u001b[1;32m    616\u001b[0m         \u001b[0;32mexcept\u001b[0m \u001b[0mInterfaceError\u001b[0m \u001b[0;32mas\u001b[0m \u001b[0merr\u001b[0m\u001b[0;34m:\u001b[0m\u001b[0;34m\u001b[0m\u001b[0;34m\u001b[0m\u001b[0m\n\u001b[1;32m    617\u001b[0m             \u001b[0;32mif\u001b[0m \u001b[0mself\u001b[0m\u001b[0;34m.\u001b[0m\u001b[0m_connection\u001b[0m\u001b[0;34m.\u001b[0m\u001b[0mhave_next_result\u001b[0m\u001b[0;34m:\u001b[0m\u001b[0;34m\u001b[0m\u001b[0;34m\u001b[0m\u001b[0m\n",
      "\u001b[0;32m/opt/anaconda3/lib/python3.9/site-packages/mysql/connector/connection.py\u001b[0m in \u001b[0;36mcmd_query\u001b[0;34m(self, query, raw, buffered, raw_as_string)\u001b[0m\n\u001b[1;32m   1044\u001b[0m         \u001b[0mquery\u001b[0m \u001b[0;34m=\u001b[0m \u001b[0mbytes\u001b[0m\u001b[0;34m(\u001b[0m\u001b[0mpacket\u001b[0m\u001b[0;34m)\u001b[0m\u001b[0;34m\u001b[0m\u001b[0;34m\u001b[0m\u001b[0m\n\u001b[1;32m   1045\u001b[0m         \u001b[0;32mtry\u001b[0m\u001b[0;34m:\u001b[0m\u001b[0;34m\u001b[0m\u001b[0;34m\u001b[0m\u001b[0m\n\u001b[0;32m-> 1046\u001b[0;31m             \u001b[0mresult\u001b[0m \u001b[0;34m=\u001b[0m \u001b[0mself\u001b[0m\u001b[0;34m.\u001b[0m\u001b[0m_handle_result\u001b[0m\u001b[0;34m(\u001b[0m\u001b[0mself\u001b[0m\u001b[0;34m.\u001b[0m\u001b[0m_send_cmd\u001b[0m\u001b[0;34m(\u001b[0m\u001b[0mServerCmd\u001b[0m\u001b[0;34m.\u001b[0m\u001b[0mQUERY\u001b[0m\u001b[0;34m,\u001b[0m \u001b[0mquery\u001b[0m\u001b[0;34m)\u001b[0m\u001b[0;34m)\u001b[0m\u001b[0;34m\u001b[0m\u001b[0;34m\u001b[0m\u001b[0m\n\u001b[0m\u001b[1;32m   1047\u001b[0m         \u001b[0;32mexcept\u001b[0m \u001b[0mProgrammingError\u001b[0m \u001b[0;32mas\u001b[0m \u001b[0merr\u001b[0m\u001b[0;34m:\u001b[0m\u001b[0;34m\u001b[0m\u001b[0;34m\u001b[0m\u001b[0m\n\u001b[1;32m   1048\u001b[0m             \u001b[0;32mif\u001b[0m \u001b[0merr\u001b[0m\u001b[0;34m.\u001b[0m\u001b[0merrno\u001b[0m \u001b[0;34m==\u001b[0m \u001b[0;36m3948\u001b[0m \u001b[0;32mand\u001b[0m \u001b[0;34m\"Loading local data is disabled\"\u001b[0m \u001b[0;32min\u001b[0m \u001b[0merr\u001b[0m\u001b[0;34m.\u001b[0m\u001b[0mmsg\u001b[0m\u001b[0;34m:\u001b[0m\u001b[0;34m\u001b[0m\u001b[0;34m\u001b[0m\u001b[0m\n",
      "\u001b[0;32m/opt/anaconda3/lib/python3.9/site-packages/mysql/connector/connection.py\u001b[0m in \u001b[0;36m_send_cmd\u001b[0;34m(self, command, argument, packet_number, packet, expect_response, compressed_packet_number)\u001b[0m\n\u001b[1;32m    655\u001b[0m \u001b[0;34m\u001b[0m\u001b[0m\n\u001b[1;32m    656\u001b[0m         \u001b[0;32mtry\u001b[0m\u001b[0;34m:\u001b[0m\u001b[0;34m\u001b[0m\u001b[0;34m\u001b[0m\u001b[0m\n\u001b[0;32m--> 657\u001b[0;31m             self._socket.send(\n\u001b[0m\u001b[1;32m    658\u001b[0m                 \u001b[0mself\u001b[0m\u001b[0;34m.\u001b[0m\u001b[0m_protocol\u001b[0m\u001b[0;34m.\u001b[0m\u001b[0mmake_command\u001b[0m\u001b[0;34m(\u001b[0m\u001b[0mcommand\u001b[0m\u001b[0;34m,\u001b[0m \u001b[0mpacket\u001b[0m \u001b[0;32mor\u001b[0m \u001b[0margument\u001b[0m\u001b[0;34m)\u001b[0m\u001b[0;34m,\u001b[0m\u001b[0;34m\u001b[0m\u001b[0;34m\u001b[0m\u001b[0m\n\u001b[1;32m    659\u001b[0m                 \u001b[0mpacket_number\u001b[0m\u001b[0;34m,\u001b[0m\u001b[0;34m\u001b[0m\u001b[0;34m\u001b[0m\u001b[0m\n",
      "\u001b[0;32m/opt/anaconda3/lib/python3.9/site-packages/mysql/connector/network.py\u001b[0m in \u001b[0;36msend_plain\u001b[0;34m(self, buf, packet_number, compressed_packet_number)\u001b[0m\n\u001b[1;32m    170\u001b[0m                 \u001b[0mself\u001b[0m\u001b[0;34m.\u001b[0m\u001b[0msock\u001b[0m\u001b[0;34m.\u001b[0m\u001b[0msendall\u001b[0m\u001b[0;34m(\u001b[0m\u001b[0mpacket\u001b[0m\u001b[0;34m)\u001b[0m\u001b[0;34m\u001b[0m\u001b[0;34m\u001b[0m\u001b[0m\n\u001b[1;32m    171\u001b[0m             \u001b[0;32mexcept\u001b[0m \u001b[0mIOError\u001b[0m \u001b[0;32mas\u001b[0m \u001b[0merr\u001b[0m\u001b[0;34m:\u001b[0m\u001b[0;34m\u001b[0m\u001b[0;34m\u001b[0m\u001b[0m\n\u001b[0;32m--> 172\u001b[0;31m                 raise OperationalError(\n\u001b[0m\u001b[1;32m    173\u001b[0m                     \u001b[0merrno\u001b[0m\u001b[0;34m=\u001b[0m\u001b[0;36m2055\u001b[0m\u001b[0;34m,\u001b[0m \u001b[0mvalues\u001b[0m\u001b[0;34m=\u001b[0m\u001b[0;34m(\u001b[0m\u001b[0mself\u001b[0m\u001b[0;34m.\u001b[0m\u001b[0mget_address\u001b[0m\u001b[0;34m(\u001b[0m\u001b[0;34m)\u001b[0m\u001b[0;34m,\u001b[0m \u001b[0m_strioerror\u001b[0m\u001b[0;34m(\u001b[0m\u001b[0merr\u001b[0m\u001b[0;34m)\u001b[0m\u001b[0;34m)\u001b[0m\u001b[0;34m\u001b[0m\u001b[0;34m\u001b[0m\u001b[0m\n\u001b[1;32m    174\u001b[0m                 ) from err\n",
      "\u001b[0;31mOperationalError\u001b[0m: 2055: Lost connection to MySQL server at 'localhost:3306', system error: 32 Broken pipe"
     ]
    }
   ],
   "source": [
    "import pandas as pd\n",
    "from app.api.process import Process\n",
    "from app.api.service import db_conn\n",
    "\n",
    "\n",
    "processor=Process()\n",
    "config = processor.config\n",
    "\n",
    "organisms = pd.read_csv(config['static_folder']+'/'+config['organisms_output_filename'],sep = '|')\n",
    "organisms.columns = organisms.columns.str.replace(' ', '')\n",
    "for column in organisms.columns:  \n",
    "    organisms[column] = organisms[column].apply(lambda x:x.strip())\n",
    "organisms_list = organisms.values.tolist()\n",
    "organisms_list = [tuple(l) for l in organisms_list]\n",
    "\n",
    "mydb = db_conn()\n",
    "cur = mydb.cursor()\n",
    "cur.execute('set GLOBAL max_allowed_packet=67108864')\n",
    "cur.execute(config['organism_truncate_query'])\n",
    "cur.executemany(config['organism_insert_query'], organisms_list)\n",
    "# for index,organism in enumerate(organisms_list):\n",
    "#     if (index%100000==0):\n",
    "#         logger.info('{} records inserted'.format(index))\n",
    "#     cur.execute(config['organism_insert_query'], organism)\n",
    "\n",
    "mydb.commit()\n",
    "cur.close()"
   ]
  },
  {
   "cell_type": "code",
   "execution_count": 59,
   "id": "b7f33f32",
   "metadata": {},
   "outputs": [
    {
     "data": {
      "text/plain": [
       "[('Picoliter Drops',),\n",
       " ('PDMS polymer',),\n",
       " ('Glass',),\n",
       " ('Acrylic',),\n",
       " ('Stainless Steel (304) Coupon',),\n",
       " ('Stainless Steel (316L) Coupon',),\n",
       " ('Stainless Steel (316L) Coupon (Electropolished Surface)',),\n",
       " ('Stainless Steel (316L) Coupon (Hand Polished Surface)',),\n",
       " ('Stainless Steel (347) Coupon',),\n",
       " ('Acrylonitrile Butadiene Styrene (ABS) Coupon (non-autoclavable)',),\n",
       " ('Aluminum Coupon',),\n",
       " ('AHW White High Grade FC Buna N Rubber Coupon',),\n",
       " ('Concrete Coated Polycarbonate Coupon (polycarbonate cup filled with concrete)',),\n",
       " ('Cast Iron Coupon',),\n",
       " ('Cobalt Chrome Coupon (Alloy F1537)',),\n",
       " ('CPVC Coupon',),\n",
       " ('Carbon Steel Coupon',),\n",
       " ('Copper Coupon',),\n",
       " ('Ductile Iron Coupon',),\n",
       " ('EPDM Rubber Disc Coupon',),\n",
       " ('Borosilicate Glass Coupon',),\n",
       " ('Glazed Tile Coupon (porous ceramic substratum, one side glazed tile surface-white)',),\n",
       " ('Hydroxy Apatite Coupon',),\n",
       " ('High Density Polyethylene Coupon',),\n",
       " ('Hypalon Rubber Coupon',),\n",
       " ('Low Density Polyethylene Coupon (non-autoclavable)',),\n",
       " ('Lucitone Dental Plastic Coupon',),\n",
       " ('Nickel Coupon',),\n",
       " ('Natural Rubber Coupon',),\n",
       " ('Nylon Coupon',),\n",
       " ('Polycarbonate Coupon',),\n",
       " ('Polycarbonate Cup Coupon',),\n",
       " ('UMHW Polyethylene Coupon (ultra-high-molecular-weight polyethylene)',),\n",
       " ('Polyetherertherketone (PEEK: Arlon 1330) Coupon',),\n",
       " ('Polyethylene Terephthalate (PET: Polyester, Dacron) Coupon',),\n",
       " ('Polyethylene Terephthalate Glycol (PETG) Coupon (non-autoclavable)',),\n",
       " ('Plexiglass (acrylic) Coupon (non-autoclavable)',),\n",
       " ('Porcelain Surface Coupon (porous ceramic substratum, one side glazed porcelain)',),\n",
       " ('Polypropylene Coupon',),\n",
       " ('Polystyrene Coupon (non-autoclavable)',),\n",
       " ('Teflon (PTFE) Coupon',),\n",
       " ('Polyurethane Coupon (high temperature polymer)',),\n",
       " ('PVC (white) Coupon (non-autoclavable)',),\n",
       " ('Silicone Rubber Coupon',),\n",
       " ('Titanium Coupon',),\n",
       " ('Titanium Alloy (Ti-6AL-4V ELI) Coupon',),\n",
       " ('Viton Coupon',)]"
      ]
     },
     "execution_count": 59,
     "metadata": {},
     "output_type": "execute_result"
    }
   ],
   "source": [
    "substratum"
   ]
  },
  {
   "cell_type": "code",
   "execution_count": 57,
   "id": "f995f49a",
   "metadata": {},
   "outputs": [],
   "source": [
    "# import json\n",
    "# with open('app/api/app_config.json', 'w') as fp:\n",
    "#     json.dump(x, fp)"
   ]
  },
  {
   "cell_type": "code",
   "execution_count": 2,
   "id": "f75c00a3",
   "metadata": {},
   "outputs": [
    {
     "name": "stdout",
     "output_type": "stream",
     "text": [
      "Requirement already satisfied: pymysql in /opt/anaconda3/lib/python3.9/site-packages (1.1.0)\n",
      "\n",
      "\u001b[1m[\u001b[0m\u001b[34;49mnotice\u001b[0m\u001b[1;39;49m]\u001b[0m\u001b[39;49m A new release of pip is available: \u001b[0m\u001b[31;49m23.1.2\u001b[0m\u001b[39;49m -> \u001b[0m\u001b[32;49m23.2.1\u001b[0m\n",
      "\u001b[1m[\u001b[0m\u001b[34;49mnotice\u001b[0m\u001b[1;39;49m]\u001b[0m\u001b[39;49m To update, run: \u001b[0m\u001b[32;49mpip install --upgrade pip\u001b[0m\n"
     ]
    }
   ],
   "source": [
    "!pip install pymysql"
   ]
  },
  {
   "cell_type": "code",
   "execution_count": 13,
   "id": "90bf94f9",
   "metadata": {},
   "outputs": [],
   "source": [
    "\n",
    "connection = pymysql.connect(host='localhost',\n",
    "                             user='root',\n",
    "                             password='12345678',\n",
    "                             database='Biofilm',\n",
    "                             cursorclass=pymysql.cursors.DictCursor)"
   ]
  },
  {
   "cell_type": "code",
   "execution_count": 14,
   "id": "9c493495",
   "metadata": {},
   "outputs": [
    {
     "name": "stdout",
     "output_type": "stream",
     "text": [
      "{'vessels': 'Annular'}\n"
     ]
    }
   ],
   "source": [
    "with connection.cursor() as cursor:\n",
    "        # Read a single record\n",
    "        sql = \"SELECT *  from Biofilm.vessels\"\n",
    "        cursor.execute(sql)\n",
    "        result = cursor.fetchone()\n",
    "        print(result)\n",
    "        connection.close()\n",
    "        cursor.close()"
   ]
  },
  {
   "cell_type": "code",
   "execution_count": 8,
   "id": "e85a4a13",
   "metadata": {},
   "outputs": [],
   "source": []
  },
  {
   "cell_type": "code",
   "execution_count": 1,
   "id": "01257e96",
   "metadata": {},
   "outputs": [
    {
     "name": "stdout",
     "output_type": "stream",
     "text": [
      "localhost\n",
      "root\n",
      "12345678\n",
      "Biofilm\n",
      "Connection created successfully\n"
     ]
    }
   ],
   "source": [
    "import pymysql\n",
    "import pandas as pd\n",
    "from app.api.process import Process\n",
    "from app.api.service import db_conn\n",
    "\n",
    "\n",
    "processor=Process()\n",
    "config = processor.config\n",
    "\n",
    "organisms = pd.read_csv(config['static_folder']+'/'+config['organisms_output_filename'],sep = '|')\n",
    "organisms.columns = organisms.columns.str.replace(' ', '')\n",
    "for column in organisms.columns:  \n",
    "    organisms[column] = organisms[column].apply(lambda x:x.strip())\n",
    "organisms_list = organisms.values.tolist()\n",
    "organisms_list = [tuple(l) for l in organisms_list]\n",
    "def db_conn():\n",
    "    try:\n",
    "        print(processor.args.db_host_name)\n",
    "        print(processor.args.db_user)\n",
    "        print(processor.args.db_paswd)\n",
    "        print(processor.args.db_name)\n",
    "        connection = pymysql.connect(host=processor.args.db_host_name,\n",
    "                                     user=processor.args.db_user,\n",
    "                                     password=processor.args.db_paswd,\n",
    "                                     database=processor.args.db_name,\n",
    "                                     cursorclass=pymysql.cursors.DictCursor)\n",
    "            \n",
    "            \n",
    "        if(connection):\n",
    "            print('Connection created successfully')\n",
    "        return connection\n",
    "    except Exception as e:\n",
    "            print(f\"While processing in Function {db_conn.__qualname__}, we got {sys.exc_info()[0]} Exception. \\n '{e}' in Line Number {sys.exc_info()[2].tb_lineno}  File Name {os.path.basename(sys.exc_info()[2].tb_frame.f_code.co_filename)}\")\n",
    "\n",
    "connection = db_conn()\n",
    "with connection.cursor() as cur:\n",
    "    cur.execute(config['organism_truncate_query'])\n",
    "    cur.executemany(config['organism_insert_query'], organisms_list)\n",
    "    connection.commit()\n",
    "    cur.close()\n",
    "    connection.close()\n",
    "    \n",
    "# for index,organism in enumerate(organisms_list):\n",
    "#     if (index%100000==0):\n",
    "#         logger.info('{} records inserted'.format(index))\n",
    "#     cur.execute(config['organism_insert_query'], organism)\n"
   ]
  },
  {
   "cell_type": "code",
   "execution_count": 2,
   "id": "0f40f679",
   "metadata": {},
   "outputs": [],
   "source": [
    "connection = pymysql.connect(host=processor.args.db_host_name,\n",
    "                                     user=processor.args.db_user,\n",
    "                                     password=processor.args.db_paswd,\n",
    "                                     database=processor.args.db_name,\n",
    "                                     cursorclass=pymysql.cursors.DictCursor)"
   ]
  },
  {
   "cell_type": "code",
   "execution_count": 3,
   "id": "908dc4d4",
   "metadata": {},
   "outputs": [
    {
     "ename": "AttributeError",
     "evalue": "'Connection' object has no attribute 'getconn'",
     "output_type": "error",
     "traceback": [
      "\u001b[0;31m---------------------------------------------------------------------------\u001b[0m",
      "\u001b[0;31mAttributeError\u001b[0m                            Traceback (most recent call last)",
      "\u001b[0;32m/var/folders/x7/gf3rpcz11jl1v62l7lr921kc0000gn/T/ipykernel_3194/1458989121.py\u001b[0m in \u001b[0;36m<module>\u001b[0;34m\u001b[0m\n\u001b[0;32m----> 1\u001b[0;31m \u001b[0mconnection\u001b[0m\u001b[0;34m.\u001b[0m\u001b[0mgetconn\u001b[0m\u001b[0;34m(\u001b[0m\u001b[0;34m)\u001b[0m\u001b[0;34m\u001b[0m\u001b[0;34m\u001b[0m\u001b[0m\n\u001b[0m",
      "\u001b[0;31mAttributeError\u001b[0m: 'Connection' object has no attribute 'getconn'"
     ]
    }
   ],
   "source": [
    "connection.getconn()"
   ]
  },
  {
   "cell_type": "code",
   "execution_count": 1,
   "id": "44fe19c1",
   "metadata": {},
   "outputs": [],
   "source": [
    "import os\n",
    "import sys\n",
    "import pymysql\n",
    "from core.logger import get_logger\n",
    "from app.api.process import Process\n",
    "\n",
    "processor=Process()\n",
    "app=processor.get_app()\n",
    "\n"
   ]
  },
  {
   "cell_type": "code",
   "execution_count": 2,
   "id": "25ceb9e8",
   "metadata": {},
   "outputs": [],
   "source": [
    "def db_conn():\n",
    "    try:\n",
    "        print(processor.args.db_host_name)\n",
    "        print(processor.args.db_user)\n",
    "        print(processor.args.db_paswd)\n",
    "        print(processor.args.db_name)\n",
    "        connection = pymysql.connect(host=processor.args.db_host_name,\n",
    "                                     user=processor.args.db_user,\n",
    "                                     password=processor.args.db_paswd,\n",
    "                                     database=processor.args.db_name,\n",
    "                                     cursorclass=pymysql.cursors.DictCursor)\n",
    "            \n",
    "            \n",
    "        if(connection):\n",
    "            print('Connection created successfully')\n",
    "        return connection\n",
    "    except Exception as e:\n",
    "            print(f\"While processing in Function {db_conn.__qualname__}, we got {sys.exc_info()[0]} Exception. \\n '{e}' in Line Number {sys.exc_info()[2].tb_lineno}  File Name {os.path.basename(sys.exc_info()[2].tb_frame.f_code.co_filename)}\")"
   ]
  },
  {
   "cell_type": "code",
   "execution_count": 3,
   "id": "5c11e4e6",
   "metadata": {},
   "outputs": [
    {
     "name": "stdout",
     "output_type": "stream",
     "text": [
      "localhost\n",
      "root\n",
      "12345678\n",
      "Biofilm\n",
      "Connection created successfully\n"
     ]
    }
   ],
   "source": [
    "connection = db_conn()\n",
    "with connection.cursor() as cur:\n",
    "    cur.execute(\"select * from Biofilm.organisms limit 5;\")\n",
    "    results = cur.fetchall()\n",
    "    cur.close()\n",
    "        \n"
   ]
  },
  {
   "cell_type": "code",
   "execution_count": 4,
   "id": "f84c6570",
   "metadata": {},
   "outputs": [
    {
     "data": {
      "text/plain": [
       "[{'ncbi_id': 'NCBITaxon_100', 'organism_name': 'Ancylobacter aquaticus'},\n",
       " {'ncbi_id': 'NCBITaxon_100000', 'organism_name': 'Herbaspirillum sp. BA12'},\n",
       " {'ncbi_id': 'NCBITaxon_1000000',\n",
       "  'organism_name': 'Microbacterium sp. 6.11-VPa'},\n",
       " {'ncbi_id': 'NCBITaxon_1000001',\n",
       "  'organism_name': 'Mycobacterium sp. 1.1-VEs'},\n",
       " {'ncbi_id': 'NCBITaxon_1000002',\n",
       "  'organism_name': 'Mycobacterium sp. 1.12-VEs'}]"
      ]
     },
     "execution_count": 4,
     "metadata": {},
     "output_type": "execute_result"
    }
   ],
   "source": [
    "results"
   ]
  },
  {
   "cell_type": "code",
   "execution_count": 1,
   "id": "13fcb1ee",
   "metadata": {},
   "outputs": [
    {
     "data": {
      "text/plain": [
       "{'openapi': '3.0.0',\n",
       " 'info': {'description': 'Code With Prince',\n",
       "  'version': '1.0.0',\n",
       "  'title': 'Code With Prince Flask API Tutorial',\n",
       "  'license': {'name': 'MIT', 'url': 'https://opensource.org/licenses/MIT'}}}"
      ]
     },
     "execution_count": 1,
     "metadata": {},
     "output_type": "execute_result"
    }
   ],
   "source": [
    "{\n",
    "  \"openapi\": \"3.0.0\",\n",
    "  \"info\": {\n",
    "    \"description\": \"Code With Prince\",\n",
    "    \"version\": \"1.0.0\",\n",
    "    \"title\": \"Code With Prince Flask API Tutorial\",\n",
    "    \"license\": {\n",
    "      \"name\": \"MIT\",\n",
    "      \"url\": \"https://opensource.org/licenses/MIT\"\n",
    "    }\n",
    "  }\n",
    "}"
   ]
  },
  {
   "cell_type": "code",
   "execution_count": null,
   "id": "92aac829",
   "metadata": {},
   "outputs": [],
   "source": []
  }
 ],
 "metadata": {
  "kernelspec": {
   "display_name": "Python 3 (ipykernel)",
   "language": "python",
   "name": "python3"
  },
  "language_info": {
   "codemirror_mode": {
    "name": "ipython",
    "version": 3
   },
   "file_extension": ".py",
   "mimetype": "text/x-python",
   "name": "python",
   "nbconvert_exporter": "python",
   "pygments_lexer": "ipython3",
   "version": "3.9.13"
  }
 },
 "nbformat": 4,
 "nbformat_minor": 5
}
